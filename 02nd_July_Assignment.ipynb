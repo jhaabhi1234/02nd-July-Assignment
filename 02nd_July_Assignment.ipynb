{
 "cells": [
  {
   "cell_type": "code",
   "execution_count": null,
   "id": "592420a2-bdd8-4bf9-ab11-d1aa9c34dcbf",
   "metadata": {},
   "outputs": [],
   "source": [
    "Q1. Explain what inheritance is in object-oriented programming and why it is used. "
   ]
  },
  {
   "cell_type": "code",
   "execution_count": null,
   "id": "cad882a5-ff53-42a7-b852-f08c13a4a68e",
   "metadata": {},
   "outputs": [],
   "source": [
    "Inheritance is a fundamental concept in object-oriented programming (OOP) where a new class, called a derived class or subclass, can inherit attributes and behaviors from an existing class, known as a base class or superclass. It promotes code reuse, allowing the derived class to inherit the properties and methods of the base class, reducing redundancy and making the code more modular and maintainable."
   ]
  },
  {
   "cell_type": "code",
   "execution_count": null,
   "id": "22cf12eb-168a-4e75-9906-d08f4764a0ff",
   "metadata": {},
   "outputs": [],
   "source": [
    "Q2. Discuss the concept of single inheritance and multiple inheritance, highlighting their differences and advantages. "
   ]
  },
  {
   "cell_type": "code",
   "execution_count": null,
   "id": "e956b773-3efb-4698-bd51-30bc08331838",
   "metadata": {},
   "outputs": [],
   "source": [
    "Single Inheritance involves a derived class inheriting from only one base class. It simplifies the class hierarchy and avoids complications related to ambiguity and diamond problem.\n",
    "Multiple Inheritance allows a derived class to inherit from more than one base class. It can lead to ambiguity and complexity, especially if the base classes have conflicting attributes or methods.\n",
    "Advantages of Single Inheritance: Simplicity, avoids ambiguity.\n",
    "Advantages of Multiple Inheritance: Increased code reuse, flexibility."
   ]
  },
  {
   "cell_type": "code",
   "execution_count": null,
   "id": "6d8dd4eb-9276-4f30-afff-eaf2f5c084a5",
   "metadata": {},
   "outputs": [],
   "source": [
    "Q3. Explain the terms \"base class\" and \"derived class\" in the context of inheritance. "
   ]
  },
  {
   "cell_type": "code",
   "execution_count": null,
   "id": "c11791bc-bff6-4a2a-bacd-9006078f0a26",
   "metadata": {},
   "outputs": [],
   "source": [
    "Base Class: A class whose properties and methods are inherited by another class. It is also known as a superclass or parent class.\n",
    "Derived Class: A class that inherits properties and methods from another class. It is also known as a subclass or child class."
   ]
  },
  {
   "cell_type": "code",
   "execution_count": null,
   "id": "5b791079-387c-4be8-98b7-4fba4b661f1e",
   "metadata": {},
   "outputs": [],
   "source": [
    "Q4. What is the significance of the \"protected\" access modifier in inheritance? How does it differ from \"private\" and \"public\" modifiers?"
   ]
  },
  {
   "cell_type": "code",
   "execution_count": null,
   "id": "47352267-2b08-4344-b7ed-6d329a3e224d",
   "metadata": {},
   "outputs": [],
   "source": [
    "Significance: The \"protected\" access modifier allows the members (attributes or methods) of a class to be accessible within its own class and its subclasses (derived classes).\n",
    "Differences:\n",
    "Private: Accessible only within the class where it is declared.\n",
    "Protected: Accessible within the class and its subclasses.\n",
    "Public: Accessible from anywhere."
   ]
  },
  {
   "cell_type": "code",
   "execution_count": null,
   "id": "9737dab3-55bd-4371-bb41-d7891486509b",
   "metadata": {},
   "outputs": [],
   "source": [
    "Q5. What is the purpose of the \"super\" keyword in inheritance? Provide an example. "
   ]
  },
  {
   "cell_type": "code",
   "execution_count": null,
   "id": "b091bcb7-5054-4499-90ec-fd78022a6958",
   "metadata": {},
   "outputs": [],
   "source": [
    "Purpose: The \"super\" keyword is used to call the methods and constructors of the superclass in the derived class. It helps avoid name conflicts and allows access to the superclass's implementation.\n",
    "\n",
    "Example: class person:\n",
    "        def __init__(self, name):\n",
    "            self.name=name\n",
    "        def display_info(self):\n",
    "            print(f\"The person name is {self.name}\")\n",
    "    class student(person):\n",
    "        def __init__(self, name, grade):\n",
    "            super().__init__(name) \n",
    "            self.grade= grade\n",
    "        def display_info(self):\n",
    "            super().display_info()\n",
    "            print(f\"The student is {self.name} and his grade is {self.grade} \") \n",
    "    class teacher(person):\n",
    "        def __init__(self, name, subject):\n",
    "            self.subject=subject\n",
    "            super().__init__(name)\n",
    "        def display_info(self):\n",
    "            super().display_info()\n",
    "            print(f\"{self.name} is professor of {self.subject}\")"
   ]
  },
  {
   "cell_type": "code",
   "execution_count": null,
   "id": "142f3ccf-a64a-4a1a-9606-b0b7bd61b05d",
   "metadata": {},
   "outputs": [],
   "source": [
    "Q6. Create a base class called \"Vehicle\" with attributes like \"make\", \"model\", and \"year\". Then, create a derived class called \"Car\" that inherits from \"Vehicle\" and adds an attribute called \"fuel_type\". Implement appropriate methods in both classes. "
   ]
  },
  {
   "cell_type": "code",
   "execution_count": null,
   "id": "7da59fe5-17e9-4881-abde-7fa543c47c89",
   "metadata": {},
   "outputs": [],
   "source": [
    "class Vehicle:\n",
    "    def __init__(self, make, model, year):\n",
    "        self.make = make\n",
    "        self.model = model\n",
    "        self.year = year\n",
    "\n",
    "class Car(Vehicle):\n",
    "    def __init__(self, make, model, year, fuel_type):\n",
    "        super().__init__(make, model, year)\n",
    "        self.fuel_type = fuel_type\n"
   ]
  },
  {
   "cell_type": "code",
   "execution_count": null,
   "id": "e6353a5a-b564-40bf-a424-33e8f6628f15",
   "metadata": {},
   "outputs": [],
   "source": [
    "Q7. Create a base class called \"Employee\" with attributes like \"name\" and \"salary.\" Derive two classes, \"Manager\" and \"Developer,\" from \"Employee.\" Add an additional attribute called \"department\" for the \"Manager\" class and \"programming_language\" for the \"Developer\" class. "
   ]
  },
  {
   "cell_type": "code",
   "execution_count": 2,
   "id": "742bc263-8136-417c-8b61-06e3b152e292",
   "metadata": {},
   "outputs": [],
   "source": [
    "class Employee():\n",
    "    def __init__(self,name,salary):\n",
    "        self.name=name\n",
    "        self.salary=salary\n",
    "\n",
    "class Manager(Employee):\n",
    "    def __init__(self, name, salary,department):\n",
    "        super.__init__( name, salary)\n",
    "        self.department = department\n",
    "class Developer(Employee):\n",
    "    def __init__(self, name, salary, programming_language):\n",
    "        super().__init__(name, salary)\n",
    "        self.programming_language = programming_language        \n",
    "    "
   ]
  },
  {
   "cell_type": "code",
   "execution_count": null,
   "id": "4f6a9845-e2b2-48c7-9382-587e39b44b8b",
   "metadata": {},
   "outputs": [],
   "source": [
    "Q8. Design a base class called \"Shape\" with attributes like \"colour\" and \"border_width.\" Create derived classes, \"Rectangle\" and \"Circle,\" that inherit from \"Shape\" and add specific attributes like \"length\" and \"width\" for the \"Rectangle\" class and \"radius\" for the \"Circle\" class. "
   ]
  },
  {
   "cell_type": "code",
   "execution_count": null,
   "id": "15a4386f-ec40-4b87-9580-2a55099342e3",
   "metadata": {},
   "outputs": [],
   "source": [
    "class Shape:\n",
    "    def __init__(self, colour, border_width):\n",
    "        self.colour = colour\n",
    "        self.border_width = border_width\n",
    "\n",
    "class Rectangle(Shape):\n",
    "    def __init__(self, colour, border_width, length, width):\n",
    "        super().__init__(colour, border_width)\n",
    "        self.length = length\n",
    "        self.width = width\n",
    "\n",
    "class Circle(Shape):\n",
    "    def __init__(self, colour, border_width, radius):\n",
    "        super().__init__(colour, border_width)\n",
    "        self.radius = radius\n"
   ]
  },
  {
   "cell_type": "code",
   "execution_count": null,
   "id": "0ca69b26-c128-45c4-a859-f394eaec6d40",
   "metadata": {},
   "outputs": [],
   "source": [
    "Q9. Create a base class called \"Device\" with attributes like \"brand\" and \"model.\" Derive two classes, \"Phone\" and \"Tablet,\" from \"Device.\" Add specific attributes like \n",
    "\"screen_size\" for the \"Phone\" class and \"battery_capacity\" for the \"Tablet\" class. "
   ]
  },
  {
   "cell_type": "code",
   "execution_count": null,
   "id": "e777a648-e21b-4d3b-8442-02d6e0f79373",
   "metadata": {},
   "outputs": [],
   "source": [
    "class Device:\n",
    "    def __init__(self, brand, model):\n",
    "        self.brand = brand\n",
    "        self.model = model\n",
    "\n",
    "class Phone(Device):\n",
    "    def __init__(self, brand, model, screen_size):\n",
    "        super().__init__(brand, model)\n",
    "        self.screen_size = screen_size\n",
    "\n",
    "class Tablet(Device):\n",
    "    def __init__(self, brand, model, battery_capacity):\n",
    "        super().__init__(brand, model)\n",
    "        self.battery_capacity = battery_capacity\n"
   ]
  },
  {
   "cell_type": "code",
   "execution_count": null,
   "id": "aaf6143b-1ed5-408a-b80e-e5505c0662bc",
   "metadata": {},
   "outputs": [],
   "source": [
    "Q10. Create a base class called \"BankAccount\" with attributes like \"account_number\" and \"balance.\" Derive two classes, \"SavingsAccount\" and \"CheckingAccount,\" from \"BankAccount.\" Add specific methods like \"calculate_interest\" for the \n",
    "\"SavingsAccount\" class and \"deduct_fees\" for the \"CheckingAccount\" class. "
   ]
  },
  {
   "cell_type": "code",
   "execution_count": 3,
   "id": "d8e9ff99-3887-4cb5-9a23-76c73f63a30a",
   "metadata": {},
   "outputs": [
    {
     "name": "stdout",
     "output_type": "stream",
     "text": [
      "Savings Account:\n",
      "Interest calculated: $15.00\n",
      "Account Number: SA123\n",
      "Balance: $1015.00\n",
      "\n",
      "Checking Account:\n",
      "Fees deducted: $10.00\n",
      "Account Number: CA456\n",
      "Balance: $490.00\n"
     ]
    }
   ],
   "source": [
    "class BankAccount:\n",
    "    def __init__(self, account_number, balance):\n",
    "        self.account_number = account_number\n",
    "        self.balance = balance\n",
    "\n",
    "    def display_balance(self):\n",
    "        print(f\"Account Number: {self.account_number}\")\n",
    "        print(f\"Balance: ${self.balance:.2f}\")\n",
    "\n",
    "class SavingsAccount(BankAccount):\n",
    "    def calculate_interest(self, interest_rate):\n",
    "        interest = self.balance * (interest_rate / 100)\n",
    "        self.balance += interest\n",
    "        print(f\"Interest calculated: ${interest:.2f}\")\n",
    "        self.display_balance()\n",
    "\n",
    "class CheckingAccount(BankAccount):\n",
    "    def deduct_fees(self, fee_amount):\n",
    "        if self.balance >= fee_amount:\n",
    "            self.balance -= fee_amount\n",
    "            print(f\"Fees deducted: ${fee_amount:.2f}\")\n",
    "            self.display_balance()\n",
    "        else:\n",
    "            print(\"Insufficient funds to deduct fees.\")\n",
    "\n",
    "# Example Usage:\n",
    "if __name__ == \"__main__\":\n",
    "    # Creating Savings Account\n",
    "    savings_account = SavingsAccount(account_number=\"SA123\", balance=1000)\n",
    "    print(\"Savings Account:\")\n",
    "    savings_account.calculate_interest(interest_rate=1.5)\n",
    "\n",
    "    # Creating Checking Account\n",
    "    checking_account = CheckingAccount(account_number=\"CA456\", balance=500)\n",
    "    print(\"\\nChecking Account:\")\n",
    "    checking_account.deduct_fees(fee_amount=10)\n",
    "\n"
   ]
  },
  {
   "cell_type": "code",
   "execution_count": null,
   "id": "f990e94f-d395-490c-b5d7-58342f4dc835",
   "metadata": {},
   "outputs": [],
   "source": []
  }
 ],
 "metadata": {
  "kernelspec": {
   "display_name": "Python 3 (ipykernel)",
   "language": "python",
   "name": "python3"
  },
  "language_info": {
   "codemirror_mode": {
    "name": "ipython",
    "version": 3
   },
   "file_extension": ".py",
   "mimetype": "text/x-python",
   "name": "python",
   "nbconvert_exporter": "python",
   "pygments_lexer": "ipython3",
   "version": "3.10.6"
  }
 },
 "nbformat": 4,
 "nbformat_minor": 5
}
